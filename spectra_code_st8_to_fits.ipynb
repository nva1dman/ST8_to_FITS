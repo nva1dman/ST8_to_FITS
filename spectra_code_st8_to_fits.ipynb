{
  "nbformat": 4,
  "nbformat_minor": 0,
  "metadata": {
    "colab": {
      "provenance": [],
      "authorship_tag": "ABX9TyNtUaTJkYQkrypJ1STuuh2I",
      "include_colab_link": true
    },
    "kernelspec": {
      "name": "python3",
      "display_name": "Python 3"
    },
    "language_info": {
      "name": "python"
    }
  },
  "cells": [
    {
      "cell_type": "markdown",
      "metadata": {
        "id": "view-in-github",
        "colab_type": "text"
      },
      "source": [
        "<a href=\"https://colab.research.google.com/github/nva1dman/ST8_to_FITS/blob/main/spectra_code_st8_to_fits.ipynb\" target=\"_parent\"><img src=\"https://colab.research.google.com/assets/colab-badge.svg\" alt=\"Open In Colab\"/></a>"
      ]
    },
    {
      "cell_type": "markdown",
      "source": [
        "**Обновление от 2024-09-02**\n",
        "\n",
        "Код, предназначенный для перевода данных из формата ST-8 в формат FITS, с добавлением информании в header объекта"
      ],
      "metadata": {
        "id": "HP0c8ybG1aWq"
      }
    },
    {
      "cell_type": "code",
      "execution_count": null,
      "metadata": {
        "id": "w4D_ZBOn1KxD"
      },
      "outputs": [],
      "source": [
        "# Чтение файла и обработка заголовка\n",
        "file_st8_path = \"335r021008-15.ST8\"\n",
        "\n",
        "with open(file_st8_path, 'rb') as f:\n",
        "    # Чтение первых 2048 байт (заголовок)\n",
        "    header = f.read(2048)\n",
        "\n",
        "    # Извлечение метаданных из заголовка\n",
        "    header_text = header.decode('ascii', errors='ignore')\n",
        "\n",
        "    # Чтение оставшейся части файла как данные изображения\n",
        "    image_data_compressed = f.read()\n",
        "\n",
        "# Отображение первых 20 строк заголовка для проверки параметров\n",
        "for line in header_text.splitlines()[:20]:\n",
        "    print(line)"
      ]
    },
    {
      "cell_type": "markdown",
      "source": [
        "# Логика декомпрессии изображения\n",
        "\n",
        "В этом коде выполняется декомпрессия изображения, сжатого с использованием специфического алгоритма. Основная цель — восстановить двумерный массив пикселей изображения. Вот пошаговая логика:\n",
        "\n",
        "1. **Инициализация массива изображения**:\n",
        "   Создается пустой двумерный массив размером *height* x *width*, который будет содержать декомпрессированные данные пикселей.\n",
        "    \n",
        "2. **Чтение длины сжатой строки**:\n",
        "   Для каждой строки изображения сначала считываются два байта, которые содержат длину сжатой строки. Эти байты интерпретируются как длина, и указатель данных сдвигается.\n",
        "    \n",
        "3. **Декомпрессия строки**:\n",
        "   Каждый пиксель строки обрабатывается по очереди:\n",
        "   - *Первый пиксель строки* всегда записывается напрямую из сжатых данных.\n",
        "   - Для *остальных пикселей* возможны два варианта:\n",
        "     - Если байт данных равен 128 (или 0x80), это указывает на то, что следующий пиксель нужно записать напрямую.\n",
        "     - В противном случае, байт данных интерпретируется как \"дельта\", которая добавляется к предыдущему значению пикселя для восстановления текущего.\n",
        "    \n",
        "4. **Обработка дельты**:\n",
        "   Если байт данных содержит дельту (разницу), она может быть как положительной, так и отрицательной. Если значение дельты больше 127, оно интерпретируется как отрицательное число, используя дополнительный код (two's complement).\n",
        "\n",
        "5. **Заполнение массива**:\n",
        "   Для каждого ряда строк декомпрессированные пиксели записываются в массив. Этот процесс повторяется для всех строк изображения.\n",
        "    \n",
        "6. **Проверка результата**:\n",
        "   После декомпрессии данных программа выводит форму итогового изображения и небольшой фрагмент массива, чтобы убедиться в правильности декомпрессии.\n",
        "\n",
        "Таким образом, этот алгоритм восстанавливает исходное изображение из сжатых данных, используя дельты между соседними пикселями для уменьшения объема хранимых данных."
      ],
      "metadata": {
        "id": "ciJL1Ar71-vO"
      }
    },
    {
      "cell_type": "code",
      "source": [
        "import numpy as np\n",
        "\n",
        "def decompress_sbig_image(data, width, height):\n",
        "    # Инициализация пустого массива для изображения\n",
        "    image = np.zeros((height, width), dtype=np.uint16)\n",
        "\n",
        "    # Указатель на текущую позицию в сжатых данных\n",
        "    data_index = 0\n",
        "\n",
        "    for row in range(height):\n",
        "        # Чтение длины сжатой строки\n",
        "        compressed_length = data[data_index] + (data[data_index + 1] << 8)\n",
        "        data_index += 2\n",
        "\n",
        "        pixel_index = 0\n",
        "        while pixel_index < width:\n",
        "            if data_index >= len(data):\n",
        "                break\n",
        "\n",
        "            # Первый пиксель записывается напрямую\n",
        "            if pixel_index == 0:\n",
        "                image[row, pixel_index] = data[data_index] + (data[data_index + 1] << 8)\n",
        "                data_index += 2\n",
        "            else:\n",
        "                delta = data[data_index]\n",
        "                if delta == 128:  # 0x80 указывает, что следующее значение записано напрямую\n",
        "                    image[row, pixel_index] = data[data_index + 1] + (data[data_index + 2] << 8)\n",
        "                    data_index += 3\n",
        "                else:\n",
        "                    # delta записан в виде числа в дополнительном коде (2's complement)\n",
        "                    if delta > 127:\n",
        "                        delta -= 256\n",
        "                    image[row, pixel_index] = image[row, pixel_index - 1] + delta\n",
        "                    data_index += 1\n",
        "\n",
        "            pixel_index += 1\n",
        "\n",
        "    return image\n",
        "\n",
        "# Извлечение ширины и высоты из заголовка\n",
        "width = 1530  # Взято из предыдущего анализа\n",
        "height = 1020\n",
        "\n",
        "# Декомпрессия данных изображения\n",
        "image_data = decompress_sbig_image(image_data_compressed, width, height)\n",
        "\n",
        "# Проверка формы массива и вывод небольшой части декомпрессированного изображения\n",
        "image_data.shape, image_data[:5, :5]  # Отображение формы и небольшой части изображения"
      ],
      "metadata": {
        "id": "YN89dhNb1Z8f"
      },
      "execution_count": null,
      "outputs": []
    },
    {
      "cell_type": "code",
      "source": [
        "from astropy.io import fits\n",
        "from astroquery.simbad import Simbad\n",
        "from astropy.time import Time\n",
        "import astropy.units as u\n",
        "from astropy.coordinates import SkyCoord\n",
        "\n",
        "# Чтение данных изображения и создание объекта PrimaryHDU\n",
        "hdu = fits.PrimaryHDU(data=image_data)\n",
        "header = hdu.header\n",
        "\n",
        "# Заполнение заголовка параметрами из исходного файла\n",
        "header['SIMPLE'] = True\n",
        "header['BITPIX'] = 16\n",
        "header['NAXIS'] = 2\n",
        "header['NAXIS1'] = width\n",
        "header['NAXIS2'] = height\n",
        "header['TELESCOP'] = 'SBIG ST-8'\n",
        "header['FILE_VER'] = '3'\n",
        "header['DATA_VER'] = '1'\n",
        "header['EXPOSURE'] = 90000\n",
        "header['FOC_LEN'] = 80.000\n",
        "header['APERTURE'] = 35.0000\n",
        "header['RESP_FAC'] = 3000.000\n",
        "header['NOTE'] = '-'\n",
        "header['BACKGRND'] = 42\n",
        "header['RANGE'] = 545\n",
        "header['DATE-OBS'] = '2002-10-09'\n",
        "header['TIME'] = '01:19:47'\n",
        "header['EXP_STATE'] = 293\n",
        "header['CCD_TEMP'] = -16.51\n",
        "header['NUM_EXPS'] = 1\n",
        "header['EACH_EXP'] = 90000\n",
        "header['XPIXSZ'] = 0.0090\n",
        "header['YPIXSZ'] = 0.0090\n",
        "header['PEDESTAL'] = 0\n",
        "header['E_GAIN'] = 2.42\n",
        "\n",
        "# Запрашиваем название объекта у пользователя\n",
        "object_name = input(\"Введите название объекта для поиска в Simbad: \")\n",
        "\n",
        "try:\n",
        "    # Поиск объекта в базе данных Simbad\n",
        "    result_table = Simbad.query_object(object_name)\n",
        "\n",
        "    if result_table is not None:\n",
        "        ra = result_table['RA'][0]  # Получаем прямое восхождение\n",
        "        dec = result_table['DEC'][0]  # Получаем склонение\n",
        "\n",
        "        # Преобразуем RA и DEC в градусы\n",
        "        coord = SkyCoord(ra, dec, unit=(u.hourangle, u.deg), frame='icrs')\n",
        "\n",
        "        # Обновляем заголовок FITS файла\n",
        "        header['RA'] = coord.ra.deg\n",
        "        header['DEC'] = coord.dec.deg\n",
        "        header['EPOCH'] = 2000\n",
        "        header['DISPAXIS'] = 1\n",
        "        header['OBSERVAT'] = 'Fesenkov Astrophysical Institute'\n",
        "        header['OBJECT'] = object_name\n",
        "        header['VOBS'] = 0\n",
        "        header['OBSERVER'] = 'Valiullin Rashit'\n",
        "\n",
        "        # Вычисление UT и других параметров\n",
        "        ut = Time(header['DATE-OBS'] + ' ' + header['TIME']).ut1\n",
        "        header['UT'] = ut.iso\n",
        "\n",
        "        # Генерация имени файла в формате \"ObjectName_08-09.06.1969_20m.fit\"\n",
        "        date_obs = header['DATE-OBS'].replace('-', '.')\n",
        "        exposure_minutes = int(header['EXPOSURE'] / 60)  # Преобразуем экспозицию в минуты\n",
        "        fits_file_path = f\"{object_name.replace(' ', '_')}_{date_obs}_{exposure_minutes}m.fits\"\n",
        "        hdu.writeto(fits_file_path, overwrite=True)\n",
        "\n",
        "        print(f\"Файл сохранен как {fits_file_path}\")\n",
        "    else:\n",
        "        print(f\"Объект '{object_name}' не найден в базе данных Simbad.\")\n",
        "        print(\"Попробуйте другое написание или используйте альтернативные имена объекта.\")\n",
        "except Exception as e:\n",
        "    print(f\"Произошла ошибка: {e}\")"
      ],
      "metadata": {
        "id": "26T9aHlI1psx"
      },
      "execution_count": null,
      "outputs": []
    }
  ]
}